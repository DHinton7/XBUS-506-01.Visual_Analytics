{
 "cells": [
  {
   "cell_type": "markdown",
   "metadata": {},
   "source": [
    "# How to select features for machine learning\n",
    "\n",
    "Which features do you use? All of them? Some of them?\n",
    "    \n",
    "__Remember__: Our goal is to find the smallest set of the available features such that the fitted model will reach its maximal predictive value. \n",
    "    \n",
    "### Why?     \n",
    " - Less complexity = reduced bias    \n",
    " - Lower dimensional space = less computation time    \n",
    " - Fewer variables = better interpretability    \n",
    " \n",
    "### How to pick?    \n",
    " - Domain expertise    \n",
    " - Regularization techniques    \n",
    " - Transformer methods    \n",
    " - Dimensionality reduction    \n",
    "\n",
    "#### Imports"
   ]
  },
  {
   "cell_type": "code",
   "execution_count": null,
   "metadata": {},
   "outputs": [],
   "source": [
    "import pandas as pd\n",
    "\n",
    "from sklearn.decomposition import PCA\n",
    "from sklearn.feature_selection import SelectFromModel\n",
    "from sklearn.linear_model import Ridge, Lasso, ElasticNet\n",
    "from sklearn.discriminant_analysis import LinearDiscriminantAnalysis as LDA\n",
    "\n",
    "from yellowbrick.datasets import load_occupancy, load_concrete, load_credit"
   ]
  },
  {
   "cell_type": "markdown",
   "metadata": {},
   "source": [
    "#### Load the first dataset into a dataframe"
   ]
  },
  {
   "cell_type": "code",
   "execution_count": null,
   "metadata": {},
   "outputs": [],
   "source": [
    "# Load the room occupancy dataset into a dataframe\n",
    "features, labels = load_occupancy()"
   ]
  },
  {
   "cell_type": "markdown",
   "metadata": {},
   "source": [
    "## Regularization techniques\n",
    "\n",
    "### LASSO  (L1 Regularization) \n",
    "LASSO forces weak features to have zeroes as coefficients, effectively dropping the least predictive features."
   ]
  },
  {
   "cell_type": "code",
   "execution_count": null,
   "metadata": {},
   "outputs": [],
   "source": [
    "model = Lasso()\n",
    "model.fit(features, labels)\n",
    "print(list(zip(features, model.coef_.tolist())))"
   ]
  },
  {
   "cell_type": "markdown",
   "metadata": {},
   "source": [
    "### Ridge Regression (L2 Regularization) \n",
    "Ridge assigns every feature a weight, but spreads the coefficient values out more equally, shrinking but still maintaining less predictive features."
   ]
  },
  {
   "cell_type": "code",
   "execution_count": null,
   "metadata": {},
   "outputs": [],
   "source": [
    "model = Ridge()\n",
    "model.fit(features, labels)\n",
    "print(list(zip(features, model.coef_.tolist())))"
   ]
  },
  {
   "cell_type": "markdown",
   "metadata": {},
   "source": [
    "### ElasticNet\n",
    "ElasticNet is a linear combination of L1 and L2 regularization, meaning it combines Ridge and LASSO and essentially splits the difference."
   ]
  },
  {
   "cell_type": "code",
   "execution_count": null,
   "metadata": {},
   "outputs": [],
   "source": [
    "model = ElasticNet()\n",
    "model.fit(features, labels)\n",
    "print(list(zip(features, model.coef_.tolist())))"
   ]
  },
  {
   "cell_type": "markdown",
   "metadata": {},
   "source": [
    "## Transformer methods    \n",
    "\n",
    "### `SelectFromModel()` \n",
    "Scikit-Learn has a meta-transformer method for selecting features based on importance weights."
   ]
  },
  {
   "cell_type": "code",
   "execution_count": null,
   "metadata": {},
   "outputs": [],
   "source": [
    "model = Lasso()\n",
    "sfm = SelectFromModel(model)\n",
    "sfm.fit(features, labels)\n",
    "print(list(features.iloc[:, sfm.get_support(indices=True)]))"
   ]
  },
  {
   "cell_type": "code",
   "execution_count": null,
   "metadata": {},
   "outputs": [],
   "source": [
    "model = Ridge()\n",
    "sfm = SelectFromModel(model)\n",
    "sfm.fit(features, labels)\n",
    "print(list(features.iloc[:, sfm.get_support(indices=True)]))"
   ]
  },
  {
   "cell_type": "code",
   "execution_count": null,
   "metadata": {},
   "outputs": [],
   "source": [
    "model = ElasticNet()\n",
    "sfm = SelectFromModel(model)\n",
    "sfm.fit(features, labels)\n",
    "print(list(features.iloc[:, sfm.get_support(indices=True)]))"
   ]
  },
  {
   "cell_type": "markdown",
   "metadata": {},
   "source": [
    "## Dimensionality reduction\n",
    "\n",
    "### Principal component analysis (PCA)\n",
    "Linear dimensionality reduction using Singular Value Decomposition (SVD) of the data and keeping only the most significant singular vectors to project the data into a lower dimensional space.\n",
    "\n",
    " - Unsupervised method\n",
    " - Uses a signal representation criterion\n",
    " - Identifies the combination of attributes that account for the most variance in the data."
   ]
  },
  {
   "cell_type": "code",
   "execution_count": null,
   "metadata": {},
   "outputs": [],
   "source": [
    "pca = PCA(n_components=2)\n",
    "new_features = pca.fit(features).transform(features)\n",
    "print(new_features)"
   ]
  },
  {
   "cell_type": "markdown",
   "metadata": {},
   "source": [
    "### Linear discriminant analysis (LDA)\n",
    "A classifier with a linear decision boundary, generated by fitting class conditional densities to the data and using Bayes’ rule. The model fits a Gaussian density to each class, assuming that all classes share the same covariance matrix. Can be used to reduce the dimensionality of the input by projecting it to the most discriminative directions.\n",
    "\n",
    "- Supervised method\n",
    "- Uses a classification criterion\n",
    "- Tries to identify attributes that account for the most variance between classes."
   ]
  },
  {
   "cell_type": "code",
   "execution_count": null,
   "metadata": {},
   "outputs": [],
   "source": [
    "lda = LDA()\n",
    "new_features = lda.fit(features, labels).transform(features)\n",
    "print(new_features)"
   ]
  },
  {
   "cell_type": "markdown",
   "metadata": {},
   "source": [
    "To learn more about feature selection tools within Scikit-Learn, check out http://scikit-learn.org/stable/modules/feature_selection.html.\n",
    "\n",
    "## Exercises\n",
    "Try out the above techniques yourself with the Credit Card Default and Concrete Strength datasets."
   ]
  },
  {
   "cell_type": "code",
   "execution_count": null,
   "metadata": {},
   "outputs": [],
   "source": [
    "credit_features, credit_labels = load_credit()\n",
    "\n",
    "\n",
    "concrete_features, concrete_labels = load_concrete()"
   ]
  }
 ],
 "metadata": {
  "kernelspec": {
   "display_name": "Python 3",
   "language": "python",
   "name": "python3"
  },
  "language_info": {
   "codemirror_mode": {
    "name": "ipython",
    "version": 3
   },
   "file_extension": ".py",
   "mimetype": "text/x-python",
   "name": "python",
   "nbconvert_exporter": "python",
   "pygments_lexer": "ipython3",
   "version": "3.6.5"
  }
 },
 "nbformat": 4,
 "nbformat_minor": 1
}
