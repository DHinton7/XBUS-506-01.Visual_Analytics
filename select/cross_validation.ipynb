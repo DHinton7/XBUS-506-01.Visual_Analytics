{
 "cells": [
  {
   "cell_type": "code",
   "execution_count": null,
   "metadata": {},
   "outputs": [],
   "source": [
    "%matplotlib notebook\n",
    "\n",
    "from sklearn.pipeline import Pipeline\n",
    "from sklearn.pipeline import make_pipeline\n",
    "from sklearn.linear_model import LinearRegression\n",
    "from sklearn.preprocessing import PolynomialFeatures\n",
    "\n",
    "import numpy as np \n",
    "import matplotlib.pyplot as plt \n",
    "\n",
    "from sklearn.datasets import make_regression\n",
    "from sklearn.model_selection import train_test_split as tts"
   ]
  },
  {
   "cell_type": "code",
   "execution_count": null,
   "metadata": {},
   "outputs": [],
   "source": [
    "def plot_decision(mdl, X, y, score=None):\n",
    "    _, ax = plt.subplots(figsize=(9,6))\n",
    "    \n",
    "    # Plot the decision boundary. For that, we will assign a color to each\n",
    "    # point in the mesh [x_min, x_max]x[y_min, y_max].\n",
    "    x_min, x_max = X[:, 0].min() - (X[:, 0].min() * .01), X[:, 0].max() + (X[:, 0].max() * .01)\n",
    "    y_min, y_max = X[:, 1].min() - (X[:, 1].min() * .01), X[:, 1].max() + (X[:, 1].max() * .01)\n",
    "\n",
    "    ax.set_xlim([x_min, x_max])\n",
    "    ax.set_ylim([y_min, y_max])\n",
    "    # set the step increment for drawing the boundary graph\n",
    "    x_step = (x_max - x_min) * 0.0025\n",
    "    y_step = (y_max - y_min) * 0.0025\n",
    "\n",
    "    xx, yy = np.meshgrid(\n",
    "        np.arange(x_min, x_max, x_step), np.arange(y_min, y_max, y_step))\n",
    "\n",
    "    # raise Exception(self.yy.ravel().shape)\n",
    "    Z = mdl.predict(np.c_[xx.ravel(), yy.ravel()])\n",
    "    Z = Z.reshape(xx.shape)\n",
    "\n",
    "    mesh = ax.pcolormesh(xx, yy, Z, alpha=0.75)\n",
    "    \n",
    "    ax.scatter(X[:,0], X[:,1], c=y, edgecolor='#CCCCCC')\n",
    "    \n",
    "    ax.set_xlabel(\"$X_0$\")\n",
    "    ax.set_ylabel(\"$X_1$\")\n",
    "    \n",
    "    est = mdl if not isinstance(mdl, Pipeline) else mdl.steps[-1][1]\n",
    "    deg = 1 if not isinstance(mdl, Pipeline) else mdl.steps[0][1].degree\n",
    "    name = \"{} (degree={})\".format(est.__class__.__name__, deg)\n",
    "    if score:\n",
    "        name += \" $R^2={:0.3f}$\".format(score)\n",
    "    ax.set_title(\"{}\".format(name))\n",
    "    \n",
    "    cbar = plt.colorbar(mesh, label=\"$\\hat{y}$\")\n",
    "    \n",
    "    return ax"
   ]
  },
  {
   "cell_type": "code",
   "execution_count": null,
   "metadata": {},
   "outputs": [],
   "source": [
    "X, y = make_regression(n_samples=100, n_features=2, noise=10.5)"
   ]
  },
  {
   "cell_type": "code",
   "execution_count": null,
   "metadata": {},
   "outputs": [],
   "source": [
    "X_train, X_test, y_train, y_test = tts(X, y, test_size=0.2)"
   ]
  },
  {
   "cell_type": "code",
   "execution_count": null,
   "metadata": {},
   "outputs": [],
   "source": [
    "plt.scatter(X[:,0], X[:,1], c=y)"
   ]
  },
  {
   "cell_type": "code",
   "execution_count": null,
   "metadata": {},
   "outputs": [],
   "source": [
    "mdl = LinearRegression().fit(X, y)\n",
    "score = mdl.score(X,y)\n",
    "\n",
    "plot_decision(mdl, X, y, score)"
   ]
  },
  {
   "cell_type": "code",
   "execution_count": null,
   "metadata": {
    "scrolled": false
   },
   "outputs": [],
   "source": [
    "mdl = LinearRegression().fit(X_train, y_train)\n",
    "score = mdl.score(X_test, y_test)\n",
    "\n",
    "plot_decision(mdl, X, y, score)"
   ]
  },
  {
   "cell_type": "code",
   "execution_count": null,
   "metadata": {},
   "outputs": [],
   "source": [
    "mdl = make_pipeline(PolynomialFeatures(4), LinearRegression()).fit(X, y)\n",
    "score = mdl.score(X,y)\n",
    "\n",
    "plot_decision(mdl, X, y, score)"
   ]
  },
  {
   "cell_type": "code",
   "execution_count": null,
   "metadata": {},
   "outputs": [],
   "source": [
    "mdl = make_pipeline(PolynomialFeatures(14), LinearRegression()).fit(X_train, y_train)\n",
    "score = mdl.score(X_test,y_test)\n",
    "\n",
    "plot_decision(mdl, X, y, score)"
   ]
  },
  {
   "cell_type": "code",
   "execution_count": null,
   "metadata": {},
   "outputs": [],
   "source": [
    "\n",
    "    \n",
    "plot_decision(mdl, X, y, score)"
   ]
  },
  {
   "cell_type": "code",
   "execution_count": null,
   "metadata": {},
   "outputs": [],
   "source": []
  }
 ],
 "metadata": {
  "kernelspec": {
   "display_name": "Python 3",
   "language": "python",
   "name": "python3"
  },
  "language_info": {
   "codemirror_mode": {
    "name": "ipython",
    "version": 3
   },
   "file_extension": ".py",
   "mimetype": "text/x-python",
   "name": "python",
   "nbconvert_exporter": "python",
   "pygments_lexer": "ipython3",
   "version": "3.6.5"
  }
 },
 "nbformat": 4,
 "nbformat_minor": 2
}
