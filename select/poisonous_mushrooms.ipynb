{
 "cells": [
  {
   "cell_type": "code",
   "execution_count": null,
   "metadata": {},
   "outputs": [],
   "source": [
    "%matplotlib inline"
   ]
  },
  {
   "cell_type": "code",
   "execution_count": null,
   "metadata": {},
   "outputs": [],
   "source": [
    "import warnings\n",
    "warnings.filterwarnings('ignore')"
   ]
  },
  {
   "cell_type": "markdown",
   "metadata": {},
   "source": [
    "# Model Selection Tutorial with Yellowbrick\n",
    "\n",
    "In this tutorial, we are going to look at scores for a variety of [scikit-learn](http://scikit-learn.org) models and compare them using visual diagnostic tools from [Yellowbrick](http://www.scikit-yb.org) in order to select the best model for our data. \n",
    "\n",
    "\n",
    "## The Model Selection Triple\n",
    "\n",
    "Discussions of machine learning are frequently characterized by a singular focus on model selection. Be it logistic regression, random forests, Bayesian methods, or artificial neural networks, machine learning practitioners are often quick to express their preference. The reason for this is mostly historical. Though modern third-party machine learning libraries have made the deployment of multiple models appear nearly trivial, traditionally the application and tuning of even one of these algorithms required many years of study. As a result, machine learning practitioners tended to have strong preferences for particular (and likely more familiar) models over others.\n",
    "\n",
    "However, model selection is a bit more nuanced than simply picking the \"right\" or \"wrong\" algorithm. In practice, the workflow includes:\n",
    "\n",
    "  1. selecting and/or engineering the smallest and most predictive feature set\n",
    "  2. choosing a set of algorithms from a model family, and\n",
    "  3. tuning the algorithm hyperparameters to optimize performance.\n",
    "\n",
    "The **model selection triple** was first described in a 2015 [SIGMOD](http://cseweb.ucsd.edu/~arunkk/vision/SIGMODRecord15.pdf) paper by Kumar et al. In their paper, which concerns the development of next-generation database systems built to anticipate predictive modeling, the authors cogently express that such systems are badly needed due to the highly experimental nature of machine learning in practice. \"Model selection,\" they explain, \"is iterative and exploratory because the space of [model selection triples] is usually infinite, and it is generally impossible for analysts to know a priori which [combination] will yield satisfactory accuracy and/or insights.\"\n",
    "\n",
    "Recently, much of this workflow has been automated through grid search methods, standardized APIs, and GUI-based applications. In practice, however, human intuition and guidance can more effectively hone in on quality models than exhaustive search. By visualizing the model selection process, data scientists can steer towards final, explainable models and avoid pitfalls and traps.\n",
    "\n",
    "The Yellowbrick library is a diagnostic visualization platform for machine learning that allows data scientists to steer the model selection process. Yellowbrick extends the scikit-learn API with a new core object: the Visualizer. Visualizers allow visual models to be fit and transformed as part of the scikit-learn `Pipeline` process, providing visual diagnostics throughout the transformation of high dimensional data.\n",
    "\n",
    "\n",
    "## Imports"
   ]
  },
  {
   "cell_type": "code",
   "execution_count": null,
   "metadata": {},
   "outputs": [],
   "source": [
    "import os\n",
    "import pandas as pd\n",
    "\n",
    "from sklearn.metrics import f1_score\n",
    "from sklearn.pipeline import Pipeline\n",
    "from sklearn.svm import LinearSVC, NuSVC, SVC\n",
    "from sklearn.neighbors import KNeighborsClassifier\n",
    "from sklearn.preprocessing import OneHotEncoder, LabelEncoder\n",
    "from sklearn.linear_model import LogisticRegressionCV, LogisticRegression, SGDClassifier\n",
    "from sklearn.ensemble import BaggingClassifier, ExtraTreesClassifier, RandomForestClassifier\n",
    "\n",
    "from yellowbrick.classifier import ClassificationReport"
   ]
  },
  {
   "cell_type": "markdown",
   "metadata": {},
   "source": [
    "## About the Data\n",
    "\n",
    "This tutorial uses the mushrooms data from the Yellowbrick datasets module, though we'll be using a local version inside your `select/data` folder to make it a bit easier!\n",
    "\n",
    "_NOTE: The YB version of the mushrooms data differs from the mushroom dataset from the [UCI Machine Learning Repository](http://archive.ics.uci.edu/ml/). The Yellowbrick version has been deliberately modified to make modeling a bit more of a challenge._\n",
    "\n",
    "The data include descriptions of hypothetical samples corresponding to 23 species of gilled mushrooms in the Agaricus and Lepiota Family. Each species was identified as definitely edible, definitely poisonous, or of unknown edibility and not recommended (this latter class was combined with the poisonous one).\n",
    "\n",
    "Our file, \"agaricus-lepiota.txt,\" contains information for 3 nominally valued attributes and a target value from 8124 instances of mushrooms (4208 edible, 3916 poisonous).\n",
    "\n",
    "Let's load the data:"
   ]
  },
  {
   "cell_type": "code",
   "execution_count": null,
   "metadata": {},
   "outputs": [],
   "source": [
    "names = [\n",
    "    'class',\n",
    "    'cap-shape',\n",
    "    'cap-surface',\n",
    "    'cap-color'\n",
    "]\n",
    "\n",
    "mushrooms = os.path.join('data','agaricus-lepiota.txt')\n",
    "dataset   = pd.read_csv(mushrooms)\n",
    "dataset.columns = names\n",
    "dataset.head(10)"
   ]
  },
  {
   "cell_type": "code",
   "execution_count": null,
   "metadata": {},
   "outputs": [],
   "source": [
    "features = ['cap-shape', 'cap-surface', 'cap-color']\n",
    "target   = ['class']\n",
    "\n",
    "X = dataset[features]\n",
    "y = dataset[target]"
   ]
  },
  {
   "cell_type": "markdown",
   "metadata": {},
   "source": [
    "## Feature Extraction \n",
    "\n",
    "Our data, including the target, is categorical. We will need to change these values to numeric ones for machine learning. In order to extract this from the dataset, we'll have to use scikit-learn transformers to transform our input dataset into something that can be fit to a model. Luckily, scikit-learn does provide transformers for converting categorical labels into numeric integers: [`sklearn.preprocessing.LabelEncoder`](http://scikit-learn.org/stable/modules/generated/sklearn.preprocessing.LabelEncoder.html) and [`sklearn.preprocessing.OneHotEncoder`](https://scikit-learn.org/stable/modules/generated/sklearn.preprocessing.OneHotEncoder.html).\n",
    "\n",
    "We'll use a combination of scikit-learn's `Pipeline` object ([here's great post on using pipelines](http://zacstewart.com/2014/08/05/pipelines-of-featureunions-of-pipelines.html) by [Zac Stewart](https://twitter.com/zacstewart)), `OneHotEncoder`, and `LabelEncoder`:\n",
    "\n",
    "```python\n",
    "from sklearn.pipeline import Pipeline\n",
    "from sklearn.preprocessing import OneHotEncoder, LabelEncoder\n",
    "\n",
    "\n",
    "y = LabelEncoder().fit_transform(y) # Label-encode targets before modeling\n",
    "model = Pipeline([\n",
    "     ('one_hot_encoder', OneHotEncoder()), # One-hot encode columns before modeling\n",
    "     ('estimator', estimator)\n",
    "])\n",
    "```"
   ]
  },
  {
   "cell_type": "markdown",
   "metadata": {},
   "source": [
    "## Modeling and Evaluation\n",
    "\n",
    "### Common metrics for evaluating classifiers\n",
    "\n",
    "**Precision** is the number of correct positive results divided by the number of all positive results (e.g. _How many of the mushrooms we predicted would be edible actually were?_).\n",
    "\n",
    "**Recall** is the number of correct positive results divided by the number of positive results that should have been returned (e.g. _How many of the mushrooms that were poisonous did we accurately predict were poisonous?_).\n",
    "\n",
    "The **F1 score** is a measure of a test's accuracy. It considers both the precision and the recall of the test to compute the score. The F1 score can be interpreted as a weighted average of the precision and recall, where an F1 score reaches its best value at 1 and worst at 0.\n",
    "\n",
    "    precision = true positives / (true positives + false positives)\n",
    "\n",
    "    recall = true positives / (false negatives + true positives)\n",
    "\n",
    "    F1 score = 2 * ((precision * recall) / (precision + recall))\n",
    "\n",
    "\n",
    "Now we're ready to make some predictions!\n",
    "\n",
    "Let's build a way to evaluate multiple estimators &mdash;  first using traditional numeric scores (which we'll later compare to some visual diagnostics from the Yellowbrick library)."
   ]
  },
  {
   "cell_type": "code",
   "execution_count": null,
   "metadata": {},
   "outputs": [],
   "source": [
    "def score_model(X, y, estimator, **kwargs):\n",
    "    \"\"\"\n",
    "    Test various estimators.\n",
    "    \"\"\" \n",
    "    y = LabelEncoder().fit_transform(y)\n",
    "    model = Pipeline([\n",
    "         ('one_hot_encoder', OneHotEncoder()), \n",
    "         ('estimator', estimator)\n",
    "    ])\n",
    "\n",
    "    # Instantiate the classification model and visualizer\n",
    "    model.fit(X, y, **kwargs)  \n",
    "    \n",
    "    expected  = y\n",
    "    predicted = model.predict(X)\n",
    "    \n",
    "    # Compute and return F1 (harmonic mean of precision and recall)\n",
    "    print(\"{}: {}\".format(estimator.__class__.__name__, f1_score(expected, predicted)))"
   ]
  },
  {
   "cell_type": "code",
   "execution_count": null,
   "metadata": {},
   "outputs": [],
   "source": [
    "# Try them all!\n",
    "\n",
    "models = [\n",
    "    SVC(gamma='auto'), NuSVC(gamma='auto'), LinearSVC(), \n",
    "    SGDClassifier(max_iter=100, tol=1e-3), KNeighborsClassifier(), \n",
    "    LogisticRegression(solver='lbfgs'), LogisticRegressionCV(cv=3), \n",
    "    BaggingClassifier(), ExtraTreesClassifier(n_estimators=100), \n",
    "    RandomForestClassifier(n_estimators=100)\n",
    "]\n",
    "\n",
    "for model in models:\n",
    "    score_model(X, y, model)"
   ]
  },
  {
   "cell_type": "markdown",
   "metadata": {},
   "source": [
    "### Preliminary Model Evaluation\n",
    "\n",
    "Based on the results from the F1 scores above, which model is performing the best?"
   ]
  },
  {
   "cell_type": "markdown",
   "metadata": {},
   "source": [
    "## Visual Model Evaluation\n",
    "\n",
    "Now let's refactor our model evaluation function to use Yellowbrick's `ClassificationReport` class, a model visualizer that displays the precision, recall, and F1 scores. This visual model analysis tool integrates numerical scores as well color-coded heatmap in order to support easy interpretation and detection, particularly the nuances of Type I and Type II error, which are very relevant (lifesaving, even) to our use case!\n",
    "\n",
    "\n",
    "**Type I error** (or a **\"false positive\"**) is detecting an effect that is not present (e.g. determining a mushroom is poisonous when it is in fact edible).\n",
    "\n",
    "**Type II error** (or a **\"false negative\"**) is failing to detect an effect that is present (e.g. believing a mushroom is edible when it is in fact poisonous)."
   ]
  },
  {
   "cell_type": "code",
   "execution_count": null,
   "metadata": {},
   "outputs": [],
   "source": [
    "def visualize_model(X, y, estimator):\n",
    "    \"\"\"\n",
    "    Test various estimators.\n",
    "    \"\"\" \n",
    "    y = LabelEncoder().fit_transform(y)\n",
    "    model = Pipeline([\n",
    "         ('one_hot_encoder', OneHotEncoder()), \n",
    "         ('estimator', estimator)\n",
    "    ])\n",
    "\n",
    "    # Instantiate the classification model and visualizer\n",
    "    visualizer = ClassificationReport(\n",
    "        model, classes=['edible', 'poisonous'], \n",
    "        cmap=\"Reds\", size=(600, 360)\n",
    "    )\n",
    "    visualizer.fit(X, y)  \n",
    "    visualizer.score(X, y)\n",
    "    visualizer.poof()  \n",
    "\n",
    "for model in models:\n",
    "    visualize_model(X, y, model)"
   ]
  },
  {
   "cell_type": "markdown",
   "metadata": {},
   "source": [
    "## Reflection\n",
    "\n",
    " 1. Which model seems best now? Why?\n",
    " 2. Which is most likely to save your life?\n",
    " 3. How is the visual model evaluation experience different from numeric model evaluation?"
   ]
  }
 ],
 "metadata": {
  "kernelspec": {
   "display_name": "Python 3",
   "language": "python",
   "name": "python3"
  },
  "language_info": {
   "codemirror_mode": {
    "name": "ipython",
    "version": 3
   },
   "file_extension": ".py",
   "mimetype": "text/x-python",
   "name": "python",
   "nbconvert_exporter": "python",
   "pygments_lexer": "ipython3",
   "version": "3.7.1"
  }
 },
 "nbformat": 4,
 "nbformat_minor": 1
}
